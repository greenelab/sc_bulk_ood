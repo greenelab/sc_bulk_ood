{
 "cells": [
  {
   "cell_type": "markdown",
   "metadata": {},
   "source": [
    "Code to create pseudobulks (6k) using single cell RNA-seq data of human cortex.\n",
    "The following code can be run all at once, or by kernel."
   ]
  },
  {
   "cell_type": "code",
   "execution_count": 1,
   "metadata": {},
   "outputs": [],
   "source": [
    "# general imports\n",
    "import sys\n",
    "sys.path.insert(1, '../../')\n",
    "sys.path.insert(1, '../')\n",
    "from sc_preprocessing import sc_preprocess\n",
    "import warnings\n",
    "import numpy as np\n",
    "import os\n",
    "import pandas as pd\n",
    "import scipy as sp\n",
    "from scipy.sparse import coo_matrix\n",
    "from scipy.sparse import csr_matrix\n",
    "import collections\n",
    "from collections import Counter\n",
    "import scanpy as sc\n",
    "\n",
    "# Images, plots, display, and visualization\n",
    "import matplotlib.pyplot as plt\n",
    "import pandas as pd\n",
    "import seaborn as sns\n",
    "from sklearn.manifold import TSNE\n",
    "import sklearn as sk\n",
    "\n",
    "# matplotlib settings for Jupyter notebooks only\n",
    "%matplotlib inline\n",
    "\n",
    "import pickle\n",
    "import gzip\n",
    "from pathlib import Path\n",
    "\n",
    "#module import to reload sc_preprocess\n",
    "from importlib import reload \n",
    "sc_preprocess = reload(sc_preprocess)"
   ]
  },
  {
   "cell_type": "code",
   "execution_count": 2,
   "metadata": {},
   "outputs": [],
   "source": [
    "# paths for data\n",
    "os.chdir(\"/beevol/home/ivicha/Rotation_project/\")\n",
    "aug_data_path = f\"{os.getcwd()}/data/single_cell_data/augmented_cortex_data/\"\n",
    "cybersort_path = f\"{os.getcwd()}/data/single_cell_data/cybersort_cortex/\"\n",
    "data_path = f\"{os.getcwd()}/data/single_cell_data/cortex6k/matrix.csv\"\n",
    "scpred_path = f\"{os.getcwd()}/data/single_cell_data/cortexcell_labels/metadata.csv\"\n",
    "\n",
    "# parameters\n",
    "#num_cells_vec = [500, 1000, 1500, 2000, 2500, 3000, 3500, 4000, 4500, 5000]\n",
    "num_cells_vec = [5000, 5000, 5000, 5000, 5000, 5000, 5000, 5000, 5000, 5000]\n",
    "\n",
    "#####################\n",
    "### set the study ###\n",
    "#####################\n",
    "res_name = \"cortex6k\"\n",
    "results_file = f\"{data_path}/{res_name}.h5ad\""
   ]
  },
  {
   "cell_type": "markdown",
   "metadata": {},
   "source": [
    "Importing adata (sc-RNAseq human cortex):"
   ]
  },
  {
   "cell_type": "code",
   "execution_count": 3,
   "metadata": {},
   "outputs": [],
   "source": [
    "# read in the data\n",
    "adata = sc.read_csv(data_path)"
   ]
  },
  {
   "cell_type": "code",
   "execution_count": 4,
   "metadata": {},
   "outputs": [],
   "source": [
    "#since using read_csv to read matrix, need to assign \"gene_ids\"\n",
    "adata.var_names_make_unique()  # this is unnecessary if using `var_names='gene_ids'` in `sc.read_10x_mtx`\n",
    "adata.var['gene_ids'] = adata.var_names "
   ]
  },
  {
   "cell_type": "markdown",
   "metadata": {},
   "source": [
    "Importing meta data that contains cell types of adata:"
   ]
  },
  {
   "cell_type": "code",
   "execution_count": 5,
   "metadata": {},
   "outputs": [
    {
     "name": "stderr",
     "output_type": "stream",
     "text": [
      "/beevol/home/ivicha/miniconda3/envs/sc_bulk_ood/lib/python3.9/site-packages/pandas/util/_decorators.py:311: ParserWarning: Falling back to the 'python' engine because the 'c' engine does not support regex separators (separators > 1 char and different from '\\s+' are interpreted as regex); you can avoid this warning by specifying engine='python'.\n",
      "  return func(*args, **kwargs)\n"
     ]
    }
   ],
   "source": [
    "#read in metadata csv file with cell types\n",
    "meta_data = pd.read_csv(scpred_path, sep=\"\\,\")\n",
    "\n",
    "#decrease the number of cell types by grouping sub-types:\n",
    "#oligos\n",
    "meta_data = meta_data.replace(to_replace=['Oligo L4-6 OPALIN', 'Oligo L4-6 MOBP COL18A1'],\n",
    "value=['Oligodendrocyte', 'Oligodendrocyte'])\n",
    "\n",
    "#microglia\n",
    "meta_data = meta_data.replace(to_replace=['Micro L1-6 C1QC'], value=['Microglia'])\n",
    "\n",
    "#Astrocyes\n",
    "meta_data = meta_data.replace(to_replace=['Astro L1-6 FGFR3 ETNPPL', 'Astro L1 FGFR3 MT1G','Astro L1 FGFR3 FOS'],\n",
    " value=['Astrocyte', 'Astrocyte', 'Astrocyte'])\n",
    "\n",
    "#opcs\n",
    "meta_data = meta_data.replace(to_replace=['OPC L1-6 MYT1'], value= ['OPC'])\n",
    "\n",
    "#endocytes\n",
    "meta_data = meta_data.replace(to_replace=['Endo L2-5 CLDN5'], value=['Endocyte'])\n",
    "\n",
    "#others\n",
    "meta_data = meta_data.fillna('')\n",
    "meta_data = meta_data.replace(to_replace=['VLMC L1-3 CYP1B1', 'Peri L1-6 MUSTN1', 'NA', ''],\n",
    " value= ['Other', 'Other', 'Other', 'Other'])\n",
    "\n",
    "#neurons: two general subclasses: Inh and Exc\n",
    "meta_data = meta_data.replace(regex=r'Inh', value= 'Neuron')\n",
    "meta_data = meta_data.replace(regex=r'Exc', value = 'Neuron')\n",
    "\n",
    "meta_data = meta_data.replace(regex='Neuron\\s\\w\\w\\s\\w*\\w*', value = 'Neuron')\n",
    "meta_data = meta_data.replace(regex='Neuron\\s\\w\\w\\W\\s\\w*\\w*', value = 'Neuron')\n",
    "meta_data = meta_data.replace(regex='Neuron\\s\\w*', value = 'Neuron')\n",
    "meta_data = meta_data.replace(regex='Neuron\\W\\w\\s\\w*', value = 'Neuron')\n",
    "meta_data = meta_data.replace(regex='Neuron\\s\\w*', value = 'Neuron')\n",
    "\n",
    "#create variable that matches cell predictor \n",
    "meta_data['scpred_prediction']= meta_data.cell_type_alias_label\n",
    "\n",
    "#making the variable type a category to group cell types\n",
    "meta_data.cell_type_alias_label = meta_data.cell_type_alias_label.astype('category')"
   ]
  },
  {
   "cell_type": "markdown",
   "metadata": {},
   "source": [
    "Checking cell types in meta_data:"
   ]
  },
  {
   "cell_type": "code",
   "execution_count": 6,
   "metadata": {},
   "outputs": [
    {
     "data": {
      "text/plain": [
       "0                  Other\n",
       "1                 Neuron\n",
       "2                 Neuron\n",
       "3                 Neuron\n",
       "4                 Neuron\n",
       "              ...       \n",
       "49412          Astrocyte\n",
       "49413             Neuron\n",
       "49414             Neuron\n",
       "49415    Oligodendrocyte\n",
       "49416    Oligodendrocyte\n",
       "Name: cell_type_alias_label, Length: 49417, dtype: category\n",
       "Categories (7, object): ['Astrocyte', 'Endocyte', 'Microglia', 'Neuron', 'OPC', 'Oligodendrocyte', 'Other']"
      ]
     },
     "execution_count": 6,
     "metadata": {},
     "output_type": "execute_result"
    }
   ],
   "source": [
    "meta_data.cell_type_alias_label"
   ]
  },
  {
   "cell_type": "markdown",
   "metadata": {},
   "source": [
    "Assigning cell types from meta_data into the adata:"
   ]
  },
  {
   "cell_type": "code",
   "execution_count": 7,
   "metadata": {},
   "outputs": [],
   "source": [
    "adata.obs['scpred_CellType'] = meta_data.cell_type_alias_label.values.tolist()\n",
    "adata.obs['CellType'] = meta_data.cell_type_alias_label.values.tolist()"
   ]
  },
  {
   "cell_type": "markdown",
   "metadata": {},
   "source": [
    "Adding the observation of scpred_CellType to match the rest of the code based off sc_bulk_ood. "
   ]
  },
  {
   "cell_type": "code",
   "execution_count": 8,
   "metadata": {},
   "outputs": [],
   "source": [
    "# remove cells that are unlabeled or unclassified\n",
    "cell_type_id = adata.obs['scpred_CellType'].unique()\n",
    "cell_type_remove = [\"NA\"]\n",
    "cell_type_id = set(cell_type_id).difference(set(cell_type_remove))\n",
    "adata = adata[adata.obs[\"scpred_CellType\"].isin(cell_type_id)]\n",
    "adata.obs['scpred_CellType']\n",
    "\n",
    "#checking cell types:\n",
    "print(adata.obs[\"scpred_CellType\"].unique())"
   ]
  },
  {
   "cell_type": "code",
   "execution_count": 10,
   "metadata": {},
   "outputs": [
    {
     "name": "stderr",
     "output_type": "stream",
     "text": [
      "Trying to set attribute `.obs` of view, copying.\n"
     ]
    },
    {
     "data": {
      "text/plain": [
       "Counter({'Other': 2028,\n",
       "         'Neuron': 42679,\n",
       "         'Oligodendrocyte': 1930,\n",
       "         'Astrocyte': 1187,\n",
       "         'OPC': 773,\n",
       "         'Microglia': 750,\n",
       "         'Endocyte': 70})"
      ]
     },
     "execution_count": 10,
     "metadata": {},
     "output_type": "execute_result"
    }
   ],
   "source": [
    "# Group together cell types that are not very frequent\n",
    "#in this case, no cells.\n",
    "\n",
    "all_vals = adata.obs[\"scpred_CellType\"].to_list()\n",
    "#all_vals = np.char.replace(all_vals, 'adc', 'other')\n",
    "#all_vals = np.char.replace(all_vals, 'pdc', 'other')\n",
    "#all_vals = np.char.replace(all_vals, 'mk', 'other')\n",
    "#all_vals = np.char.replace(all_vals, 'hsc', 'other')\n",
    "adata.obs[\"scpred_CellType\"] = all_vals\n",
    "\n",
    "Counter(all_vals)"
   ]
  },
  {
   "cell_type": "code",
   "execution_count": 45,
   "metadata": {},
   "outputs": [
    {
     "name": "stderr",
     "output_type": "stream",
     "text": [
      "Trying to set attribute `.obs` of view, copying.\n"
     ]
    }
   ],
   "source": [
    "#Write out data into correct paths:\n",
    "\n",
    "braincells = [\"Neurons\", \"Oligodendrocytes\", \"OPC\", \"Microglia\", \"Astrocytes\", \"Endocytes\", 'Other']\n",
    "sig_nonperturb = adata[adata.obs[\"scpred_CellType\"].isin(braincells)]\n",
    "\n",
    "all_vals = sig_nonperturb.obs[\"scpred_CellType\"].to_list()\n",
    "#all_vals = np.char.replace(all_vals, 'braincells', 'Neurons')\n",
    "sig_nonperturb.obs[\"scpred_CellType\"] = all_vals\n",
    "\n",
    "sig_nonperturb.X = csr_matrix(sig_nonperturb.X)\n",
    "dense_matrix = sig_nonperturb.X.todense()\n",
    "\n",
    "sc_profile_file = os.path.join(aug_data_path, f\"{res_name}_sig.pkl\")\n",
    "sc_profile_path = Path(sc_profile_file)\n",
    "\n",
    "#Create dataframe from dense matrix into file\n",
    "dense_df = pd.DataFrame(dense_matrix, columns = sig_nonperturb.var['gene_ids'])  \n",
    "dense_df.insert(loc=0, column='scpred_CellType', value=sig_nonperturb.obs[\"scpred_CellType\"].to_list())\n",
    "\n",
    "pickle.dump(dense_df, open( sc_profile_path, \"wb\" ) )\n",
    "\n",
    "adata.X = csr_matrix(adata.X)\n",
    "dense_matrix = adata.X.todense()"
   ]
  },
  {
   "cell_type": "code",
   "execution_count": 13,
   "metadata": {},
   "outputs": [
    {
     "data": {
      "text/plain": [
       "(49417, 50281)"
      ]
     },
     "execution_count": 13,
     "metadata": {},
     "output_type": "execute_result"
    }
   ],
   "source": [
    "#More saving files for BuDDi use later:\n",
    "sc_profile_file = os.path.join(aug_data_path, f\"{res_name}_sig.pkl\")\n",
    "sc_profile_path = Path(sc_profile_file)\n",
    "\n",
    "dense_df = pd.DataFrame(dense_matrix, columns = adata.var['gene_ids'])\n",
    "dense_df.insert(loc=0, column='scpred_CellType', value=adata.obs[\"scpred_CellType\"].to_list())\n",
    "\n",
    "pickle.dump(dense_df, open( sc_profile_path, \"wb\" ) )\n",
    "\n",
    "#check shape of matrix:\n",
    "dense_matrix.shape"
   ]
  },
  {
   "cell_type": "markdown",
   "metadata": {},
   "source": [
    "QCing steps and plotting adata:"
   ]
  },
  {
   "cell_type": "code",
   "execution_count": 14,
   "metadata": {},
   "outputs": [
    {
     "name": "stdout",
     "output_type": "stream",
     "text": [
      "WARNING: You’re trying to run this on 50281 dimensions of `.X`, if you really want this, set `use_rep='X'`.\n",
      "         Falling back to preprocessing with `sc.pp.pca` and default params.\n"
     ]
    },
    {
     "name": "stderr",
     "output_type": "stream",
     "text": [
      "OMP: Info #273: omp_set_nested routine deprecated, please use omp_set_max_active_levels instead.\n",
      "/beevol/home/ivicha/miniconda3/envs/sc_bulk_ood/lib/python3.9/site-packages/anndata/_core/anndata.py:1228: FutureWarning: The `inplace` parameter in pandas.Categorical.reorder_categories is deprecated and will be removed in a future version. Removing unused categories will always return a new Categorical object.\n",
      "  c.reorder_categories(natsorted(c.categories), inplace=True)\n",
      "... storing 'scpred_CellType' as categorical\n",
      "/beevol/home/ivicha/miniconda3/envs/sc_bulk_ood/lib/python3.9/site-packages/anndata/_core/anndata.py:1228: FutureWarning: The `inplace` parameter in pandas.Categorical.reorder_categories is deprecated and will be removed in a future version. Removing unused categories will always return a new Categorical object.\n",
      "  c.reorder_categories(natsorted(c.categories), inplace=True)\n",
      "... storing 'CellType' as categorical\n"
     ]
    },
    {
     "data": {
      "image/png": "[encoded data removed]",
      "text/plain": [
       "<Figure size 432x288 with 1 Axes>"
      ]
     },
     "metadata": {},
     "output_type": "display_data"
    }
   ],
   "source": [
    "# calculate neighborhood graph\n",
    "sc.pp.neighbors(adata)\n",
    "\n",
    "# make umap\n",
    "sc.tl.umap(adata)\n",
    "\n",
    "# plot some markers of the RAW data\n",
    "sc.pl.umap(adata, legend_loc='on data', color='scpred_CellType', legend_fontsize=8)"
   ]
  },
  {
   "cell_type": "markdown",
   "metadata": {},
   "source": [
    "Now creating the pseudobulks:"
   ]
  },
  {
   "cell_type": "markdown",
   "metadata": {},
   "source": [
    "First adding cell noise:"
   ]
  },
  {
   "cell_type": "code",
   "execution_count": 23,
   "metadata": {},
   "outputs": [],
   "source": [
    "len_vector = adata.obs[\"scpred_CellType\"].unique().shape[0]\n",
    "cell_noise = [np.random.lognormal(0, 0, adata.var['gene_ids'].shape[0]) for i in range(len_vector)]\n",
    "\n",
    "# perturbing every other cell type\n",
    "cell_noise_perturb = cell_noise\n",
    "cell_noise_perturb[0] = np.random.lognormal(0, 0.7, adata.var['gene_ids'].shape[0])\n",
    "cell_noise_perturb[2] = np.random.lognormal(0, 0.7, adata.var['gene_ids'].shape[0])\n",
    "cell_noise_perturb[4] = np.random.lognormal(0, 0.7, adata.var['gene_ids'].shape[0])\n",
    "cell_noise_perturb[6] = np.random.lognormal(0, 0.7, adata.var['gene_ids'].shape[0])\n"
   ]
  },
  {
   "cell_type": "code",
   "execution_count": 24,
   "metadata": {},
   "outputs": [
    {
     "data": {
      "text/plain": [
       "F2S4_160113_027_A01              Other\n",
       "F2S4_160113_027_B01             Neuron\n",
       "F2S4_160113_027_C01             Neuron\n",
       "F2S4_160113_027_D01             Neuron\n",
       "F2S4_160113_027_E01             Neuron\n",
       "                            ...       \n",
       "F2S4_190227_100_C01          Astrocyte\n",
       "F2S4_190227_100_E01             Neuron\n",
       "F2S4_190227_100_F01             Neuron\n",
       "F2S4_190227_100_G01    Oligodendrocyte\n",
       "F2S4_190227_100_H01    Oligodendrocyte\n",
       "Name: scpred_CellType, Length: 49417, dtype: category\n",
       "Categories (7, object): ['Astrocyte', 'Endocyte', 'Microglia', 'Neuron', 'OPC', 'Oligodendrocyte', 'Other']"
      ]
     },
     "execution_count": 24,
     "metadata": {},
     "output_type": "execute_result"
    }
   ],
   "source": [
    "#Checking cell types and length:\n",
    "adata.obs[\"scpred_CellType\"].unique().shape[0]\n",
    "adata.obs[\"scpred_CellType\"]"
   ]
  },
  {
   "cell_type": "code",
   "execution_count": 41,
   "metadata": {},
   "outputs": [],
   "source": [
    "#Write out the gene ids for later use in pkl file:\n",
    "gene_pass = adata.var['gene_ids']\n",
    "gene_out_file = os.path.join(aug_data_path, f\"{res_name}_genes.pkl\")\n",
    "gene_out_path = Path(gene_out_file)\n",
    "pickle.dump( gene_pass, open( gene_out_path, \"wb\" ) )"
   ]
  },
  {
   "cell_type": "markdown",
   "metadata": {},
   "source": [
    "For loop that creates the pseudobulks, using sc_preprocessing:"
   ]
  },
  {
   "cell_type": "code",
   "execution_count": 44,
   "metadata": {},
   "outputs": [
    {
     "name": "stdout",
     "output_type": "stream",
     "text": [
      "New Domain 0\n",
      "0\n",
      "100\n",
      "200\n",
      "300\n",
      "400\n",
      "500\n",
      "600\n",
      "700\n",
      "800\n",
      "900\n",
      "1000\n",
      "New Domain 1\n",
      "0\n",
      "100\n",
      "200\n",
      "300\n",
      "400\n",
      "500\n",
      "600\n",
      "700\n",
      "800\n",
      "900\n",
      "1000\n",
      "New Domain 2\n",
      "0\n",
      "100\n",
      "200\n",
      "300\n",
      "400\n",
      "500\n",
      "600\n",
      "700\n",
      "800\n",
      "900\n",
      "1000\n",
      "New Domain 3\n",
      "0\n",
      "100\n",
      "200\n",
      "300\n",
      "400\n",
      "500\n",
      "600\n",
      "700\n",
      "800\n",
      "900\n",
      "1000\n",
      "New Domain 4\n",
      "0\n",
      "100\n",
      "200\n",
      "300\n",
      "400\n",
      "500\n",
      "600\n",
      "700\n",
      "800\n",
      "900\n",
      "1000\n",
      "New Domain 5\n",
      "0\n",
      "100\n",
      "200\n",
      "300\n",
      "400\n",
      "500\n",
      "600\n",
      "700\n",
      "800\n",
      "900\n",
      "1000\n",
      "New Domain 6\n",
      "0\n",
      "100\n",
      "200\n",
      "300\n",
      "400\n",
      "500\n",
      "600\n",
      "700\n",
      "800\n",
      "900\n",
      "1000\n",
      "New Domain 7\n",
      "0\n",
      "100\n",
      "200\n",
      "300\n",
      "400\n",
      "500\n",
      "600\n",
      "700\n",
      "800\n",
      "900\n",
      "1000\n",
      "New Domain 8\n",
      "0\n",
      "100\n",
      "200\n",
      "300\n",
      "400\n",
      "500\n",
      "600\n",
      "700\n",
      "800\n",
      "900\n",
      "1000\n",
      "New Domain 9\n",
      "0\n",
      "100\n",
      "200\n",
      "300\n",
      "400\n",
      "500\n",
      "600\n",
      "700\n",
      "800\n",
      "900\n",
      "1000\n"
     ]
    }
   ],
   "source": [
    "#Simulate different number of cells\n",
    "num_samples = 1000\n",
    "for idx in range(len(num_cells_vec)):\n",
    "  print(f\"New Domain {idx}\")\n",
    "  cortex_rep1_pseudobulk_file = os.path.join(aug_data_path, f\"{res_name}_pseudo_{idx}.pkl\")\n",
    "  cortex_rep1_prop_file = os.path.join(aug_data_path, f\"{res_name}_prop_{idx}.pkl\")\n",
    "  test_cortex_rep1_pseudobulk_file = os.path.join(aug_data_path, f\"{res_name}_testpseudo_{idx}.pkl\")\n",
    "  test_cortex_rep1_prop_file = os.path.join(aug_data_path, f\"{res_name}_testprop_{idx}.pkl\")\n",
    "\n",
    "  # if unlabeled data, we need to have both perturbed and non-perturbed cell types\n",
    "  # idx 0 is for testing and will be perturbed\n",
    "  # idx 1-4 are not perturbed because they are labeled\n",
    "  # idx 5 is ignored for now, we will make it perturbed\n",
    "  # idx 6-9 are unlabeled and will have be perturbed half not be\n",
    "  # so this makes idx 5,6,7 perturbed\n",
    "  # idx 8,9 unperturbed\n",
    "  # summary:\n",
    "  # perturbed: 0,5,6,7\n",
    "  # unperturb: 1,2,3,4,8,9\n",
    "  # train: 1,2,3,4,6,7,8,9\n",
    "  # test:  0\n",
    "  # labeled: 1,2,3,4\n",
    "  # unlabeled: 6,7,8,9\n",
    "\n",
    "  perturbed_idx = np.array([0,5,6,7])\n",
    "  cell_noise_choice = cell_noise\n",
    "  if idx in perturbed_idx:\n",
    "    cell_noise_choice = cell_noise_perturb\n",
    "\n",
    "  pseudobulk_path = Path(cortex_rep1_pseudobulk_file)\n",
    "  prop_path = Path(cortex_rep1_prop_file)\n",
    "  test_pseudobulk_path = Path(test_cortex_rep1_pseudobulk_file)\n",
    "  test_prop_path = Path(test_cortex_rep1_prop_file)\n",
    "  \n",
    "  if not pseudobulk_path.is_file(): # skip if we already generated it\n",
    "\n",
    "      # make the pseudobulks\n",
    "    num_cells = num_cells_vec[idx]\n",
    "    prop_df, pseudobulks_df, test_prop_df, test_pseudobulks_df = sc_preprocess.make_prop_and_sum(adata, \n",
    "                                                                              num_samples, \n",
    "                                                                              num_cells,\n",
    "                                                                              use_true_prop=False,\n",
    "                                                                              cell_noise=cell_noise_choice)\n",
    "      \n",
    "    #make the proportions instead of cell counts\n",
    "    prop_df = prop_df.div(prop_df.sum(axis=1), axis=0)\n",
    "    test_prop_df = test_prop_df.div(test_prop_df.sum(axis=1), axis=0)\n",
    "\n",
    "    pickle.dump( prop_df, open( prop_path, \"wb\" ) )\n",
    "    pickle.dump( pseudobulks_df, open( pseudobulk_path, \"wb\" ) )\n",
    "\n",
    "    pickle.dump( test_prop_df, open( test_prop_path, \"wb\" ) )\n",
    "    pickle.dump( test_pseudobulks_df, open( test_pseudobulk_path, \"wb\" ) )\n",
    "\n",
    "\n",
    "    if not np.all(np.isclose(prop_df.sum(axis=1), 1.)):\n",
    "      assert False, \"Proportions do not sum to 1\""
   ]
  }
 ],
 "metadata": {
  "kernelspec": {
   "display_name": "Python 3.9.7 ('sc_bulk_ood')",
   "language": "python",
   "name": "python3"
  },
  "language_info": {
   "codemirror_mode": {
    "name": "ipython",
    "version": 3
   },
   "file_extension": ".py",
   "mimetype": "text/x-python",
   "name": "python",
   "nbconvert_exporter": "python",
   "pygments_lexer": "ipython3",
   "version": "3.9.7"
  },
  "orig_nbformat": 4,
  "vscode": {
   "interpreter": {
    "hash": "be780c9a5040bca226c4e7196705347e3bfc87bae4c2d2e3e133be793677742b"
   }
  }
 },
 "nbformat": 4,
 "nbformat_minor": 2
}
